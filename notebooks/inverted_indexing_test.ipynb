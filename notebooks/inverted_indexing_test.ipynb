{
 "cells": [
  {
   "cell_type": "markdown",
   "metadata": {},
   "source": [
    "# Inverted indexing\n",
    "\n",
    "Finding material of unstructured nature (such as finding a book based on a particular text) from within a large collection.\n",
    "\n",
    "## Bitset vector technique (simpler implementation before inverted indexing)\n",
    "\n",
    "We store a bitset of the words as rows and book titles as columns and set it to `1` for those titles which contains the words.\n",
    "\n",
    "### Search function\n",
    "Queries are made by `AND` `OR` operators on the bitset to find the titles which contains the words.\n",
    "\n",
    "### Basic assumption\n",
    "- Collection: Fixed set of documents\n",
    "- Goal: Retrieve documents with information that is relevant to the user's **information need**.\n",
    "\n",
    "### Judging criteria of retrieved docs\n",
    "- Precision: Fraction of retrieved docs that are relevant to user's needs.\n",
    "- Recall: Fraction of relevants docs in collection that are retrieved."
   ]
  },
  {
   "cell_type": "code",
   "execution_count": 3,
   "metadata": {},
   "outputs": [],
   "source": [
    "from nltk.stem import *\n",
    "from nltk.probability import FreqDist\n",
    "import nltk\n",
    "\n",
    "\n",
    "# Porter stemmer can remove the -ed and -s etc etc\n",
    "stemmer = PorterStemmer()"
   ]
  },
  {
   "cell_type": "markdown",
   "metadata": {},
   "source": [
    "### The Texts"
   ]
  },
  {
   "cell_type": "code",
   "execution_count": 4,
   "metadata": {},
   "outputs": [],
   "source": [
    "text = \"penyetted penyet\"\n",
    "text1 = \"penyet test helloed\"\n",
    "text2 = \"penyetted hello\"\n",
    "\n",
    "texts = [text, text1, text2]"
   ]
  },
  {
   "cell_type": "markdown",
   "metadata": {},
   "source": [
    "### The dictionary"
   ]
  },
  {
   "cell_type": "code",
   "execution_count": 5,
   "metadata": {},
   "outputs": [],
   "source": [
    "dictionary = {}"
   ]
  },
  {
   "cell_type": "markdown",
   "metadata": {},
   "source": [
    "Store the words in dictionary with respect to their titles"
   ]
  },
  {
   "cell_type": "code",
   "execution_count": 6,
   "metadata": {},
   "outputs": [],
   "source": [
    "for i in range(0, 3):\n",
    "    for word in nltk.word_tokenize(texts[i]):\n",
    "        word = stemmer.stem(word) # Stem it first\n",
    "        if (word not in dictionary):\n",
    "            dictionary[word] = [i]\n",
    "        else:\n",
    "            if (i not in dictionary[word]):\n",
    "                dictionary[word].append(i)"
   ]
  },
  {
   "cell_type": "code",
   "execution_count": 7,
   "metadata": {},
   "outputs": [
    {
     "name": "stdout",
     "output_type": "stream",
     "text": [
      "penyet [0, 1, 2]\n",
      "test [1]\n",
      "hello [1, 2]\n"
     ]
    }
   ],
   "source": [
    "for items in dictionary:\n",
    "    print (items, dictionary[items])\n",
    "\n",
    "# Texts are ordered by their index in increasing order"
   ]
  },
  {
   "cell_type": "markdown",
   "metadata": {},
   "source": [
    "### The queries"
   ]
  },
  {
   "cell_type": "code",
   "execution_count": 8,
   "metadata": {},
   "outputs": [],
   "source": [
    "query1 = \"penyet\"\n",
    "query2 = \"hello\"\n",
    "\n",
    "query1 = stemmer.stem(query1)\n",
    "query2 = stemmer.stem(query2)\n",
    "\n",
    "queries = [[len(dictionary[query1]), query1], [len(dictionary[query2]), query2]]\n",
    "queries.sort() # Sort the queries so we tackle the smallest one first"
   ]
  },
  {
   "cell_type": "markdown",
   "metadata": {},
   "source": [
    "### Querying using 2 pointer approach on 2 lists"
   ]
  },
  {
   "cell_type": "code",
   "execution_count": 14,
   "metadata": {},
   "outputs": [
    {
     "name": "stdout",
     "output_type": "stream",
     "text": [
      "dict_keys([1, 2])\n"
     ]
    }
   ],
   "source": [
    "# We want to find a text which contains both penyet and hello\n",
    "p1 = 0\n",
    "p2 = 0\n",
    "foundTexts = {}\n",
    "# We can check both of them at the same time as their arrays are sorted\n",
    "while (p1 < len(dictionary[queries[0][1]]) and p2 < len(dictionary[queries[1][1]])):\n",
    "    index1 = dictionary[queries[0][1]][p1]\n",
    "    index2 = dictionary[queries[1][1]][p2]\n",
    "    \n",
    "    if (index1 < index2):\n",
    "        p1 += 1 # If index1 < index2 then we move p1 up\n",
    "    elif (index1 > index2):\n",
    "        p2 += 1 # vice versa for this one as well\n",
    "    elif (index1 == index2): \n",
    "        foundTexts[index1] = True\n",
    "        p1 += 1\n",
    "        p2 += 1\n",
    "\n",
    "print (foundTexts.keys())"
   ]
  },
  {
   "cell_type": "markdown",
   "metadata": {},
   "source": [
    "### Querying with AND NOT condition"
   ]
  },
  {
   "cell_type": "code",
   "execution_count": 15,
   "metadata": {},
   "outputs": [
    {
     "name": "stdout",
     "output_type": "stream",
     "text": [
      "dict_keys([0])\n"
     ]
    }
   ],
   "source": [
    "# We want to find a text which contains penyet but not hello\n",
    "foundTexts = {}\n",
    "p1 = 0\n",
    "p2 = 0\n",
    "while (p1 < len(dictionary[\"penyet\"]) and p2 < len(dictionary[\"hello\"])):\n",
    "    index1 = dictionary[\"penyet\"][p1]\n",
    "    index2 = dictionary[\"hello\"][p2]\n",
    "    if (index1 < index2):\n",
    "        foundTexts[index1] = True # Here we use a set instead as the index could be added in multiple times\n",
    "        # If index1 < index2, means index2 does not contain the article we want, else they would have both been matched\n",
    "        # In this case, the second condition of !\"hello\" has to be found from the second pointer\n",
    "        p1 += 1\n",
    "    elif (index1 > index2):\n",
    "        p2 += 1\n",
    "    elif (index1 == index2):\n",
    "        p1 += 1\n",
    "        p2 += 1\n",
    "        foundTexts.pop(index1, None) # If found later on in the list, then just pop it off\n",
    "\n",
    "print (foundTexts.keys())"
   ]
  }
 ],
 "metadata": {
  "kernelspec": {
   "display_name": "Python 3",
   "language": "python",
   "name": "python3"
  },
  "language_info": {
   "codemirror_mode": {
    "name": "ipython",
    "version": 3
   },
   "file_extension": ".py",
   "mimetype": "text/x-python",
   "name": "python",
   "nbconvert_exporter": "python",
   "pygments_lexer": "ipython3",
   "version": "3.7.2"
  }
 },
 "nbformat": 4,
 "nbformat_minor": 2
}
