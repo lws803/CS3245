{
 "cells": [
  {
   "cell_type": "markdown",
   "metadata": {},
   "source": [
    "# Tips and tricks for Python and NLTK"
   ]
  },
  {
   "cell_type": "code",
   "execution_count": 24,
   "metadata": {},
   "outputs": [],
   "source": [
    "import nltk\n",
    "import math\n",
    "from nltk.book import *"
   ]
  },
  {
   "cell_type": "markdown",
   "metadata": {},
   "source": [
    "## NLTK Tips"
   ]
  },
  {
   "cell_type": "code",
   "execution_count": 25,
   "metadata": {},
   "outputs": [
    {
     "name": "stdout",
     "output_type": "stream",
     "text": [
      "Displaying 11 of 11 matches:\n",
      "ong the former , one was of a most monstrous size . ... This came towards us , \n",
      "ON OF THE PSALMS . \" Touching that monstrous bulk of the whale or ork we have r\n",
      "ll over with a heathenish array of monstrous clubs and spears . Some were thick\n",
      "d as you gazed , and wondered what monstrous cannibal and savage could ever hav\n",
      "that has survived the flood ; most monstrous and most mountainous ! That Himmal\n",
      "they might scout at Moby Dick as a monstrous fable , or still worse and more de\n",
      "th of Radney .'\" CHAPTER 55 Of the Monstrous Pictures of Whales . I shall ere l\n",
      "ing Scenes . In connexion with the monstrous pictures of whales , I am strongly\n",
      "ere to enter upon those still more monstrous stories of them which are to be fo\n",
      "ght have been rummaged out of this monstrous cabinet there is no telling . But \n",
      "of Whale - Bones ; for Whales of a monstrous size are oftentimes cast up dead u\n",
      "===========================================================================\n",
      "true contemptible christian abundant few part mean careful puzzled\n",
      "mystifying passing curious loving wise doleful gamesome singular\n",
      "delightfully perilous fearless\n",
      "===========================================================================\n",
      "No common contexts were found\n",
      "===========================================================================\n",
      "260819\n",
      "===========================================================================\n",
      "19317\n",
      "===========================================================================\n",
      "5\n"
     ]
    }
   ],
   "source": [
    "text1.concordance(\"monstrous\") # Show a concordance view of a word with its context\n",
    "print (\"===========================================================================\")\n",
    "text1.similar(\"monstrous\") # Show words that appear in similar context\n",
    "print (\"===========================================================================\")\n",
    "text1.common_contexts([\"monstrous\", \"very\"]) # Examine the context shared by two or more words\n",
    "print (\"===========================================================================\")\n",
    "print (len(text1)) # Count number of words and punctuations\n",
    "print (\"===========================================================================\")\n",
    "print (len(set(text1))) # Print vocab size of the text\n",
    "print (\"===========================================================================\")\n",
    "print (text3.count(\"smote\")) # Print num word occurence"
   ]
  },
  {
   "cell_type": "markdown",
   "metadata": {},
   "source": [
    "## Porter Stemmer"
   ]
  },
  {
   "cell_type": "code",
   "execution_count": 26,
   "metadata": {},
   "outputs": [
    {
     "name": "stdout",
     "output_type": "stream",
     "text": [
      "penyet\n",
      "penyet\n"
     ]
    }
   ],
   "source": [
    "from nltk.stem import *\n",
    "\n",
    "from nltk.probability import FreqDist\n",
    "import nltk\n",
    "\n",
    "stemmer = PorterStemmer()\n",
    "\n",
    "text = \"penyetted penyet\"\n",
    "\n",
    "for word in nltk.word_tokenize(text):\n",
    "    print (stemmer.stem(word))\n",
    "    "
   ]
  },
  {
   "cell_type": "markdown",
   "metadata": {},
   "source": [
    "## Some Python tricks"
   ]
  },
  {
   "cell_type": "markdown",
   "metadata": {},
   "source": [
    "### Python string operations"
   ]
  },
  {
   "cell_type": "code",
   "execution_count": 27,
   "metadata": {},
   "outputs": [
    {
     "name": "stdout",
     "output_type": "stream",
     "text": [
      "ell\n",
      "['a', 'b', 'c']\n",
      "True\n",
      "0\n",
      "test is 10\n"
     ]
    }
   ],
   "source": [
    "# Slicing\n",
    "print ('hello'[1:4]) # prints 'ell'\n",
    "\n",
    "# Splitting\n",
    "print ('a_b_c'.split('_')) # ['a','b','c']\n",
    "\n",
    "str1 = \"wowcool\"\n",
    "str2 = \"wow\"\n",
    "print (str1.startswith(str2)) # Check whether str1 starts with str2\n",
    "\n",
    "print (str1.find(str2)) # get the position of str2 in str1, returns -1 if cant find\n",
    "\n",
    "# Printing\n",
    "var = 10\n",
    "print ('test is', var) # to chain and print var"
   ]
  },
  {
   "cell_type": "markdown",
   "metadata": {},
   "source": [
    "### Python exceptions"
   ]
  },
  {
   "cell_type": "code",
   "execution_count": 1,
   "metadata": {},
   "outputs": [
    {
     "name": "stdout",
     "output_type": "stream",
     "text": [
      "Please enter a number: test\n",
      "That was not a valid number. Try again...\n"
     ]
    }
   ],
   "source": [
    "try:\n",
    "    x = int(input(\"Please enter a number: \"))\n",
    "    \n",
    "except ValueError:\n",
    "    print (\"That was not a valid number. Try again...\")\n"
   ]
  },
  {
   "cell_type": "markdown",
   "metadata": {},
   "source": [
    "### OS and System"
   ]
  },
  {
   "cell_type": "code",
   "execution_count": 29,
   "metadata": {},
   "outputs": [
    {
     "name": "stdout",
     "output_type": "stream",
     "text": [
      "['/usr/local/Cellar/ipython/7.2.0/libexec/vendor/lib/python3.7/site-packages/ipykernel_launcher.py', '-f', '/Users/wilson/Library/Jupyter/runtime/kernel-2e39bffb-b800-4134-8423-743e0d7ec802.json']\n"
     ]
    },
    {
     "data": {
      "text/plain": [
       "['.DS_Store', 'Untitled.ipynb', 'unigram_test.ipynb', '.ipynb_checkpoints']"
      ]
     },
     "execution_count": 29,
     "metadata": {},
     "output_type": "execute_result"
    }
   ],
   "source": [
    "# Standard library\n",
    "import sys\n",
    "sys.argv # list of arguments while executing the python script\n",
    "print (sys.argv)\n",
    "\n",
    "# OS module\n",
    "import os\n",
    "\n",
    "os.listdir() # Get all file names in the specified directory"
   ]
  },
  {
   "cell_type": "markdown",
   "metadata": {},
   "source": [
    "### Aggregating function parameters"
   ]
  },
  {
   "cell_type": "code",
   "execution_count": 30,
   "metadata": {
    "scrolled": true
   },
   "outputs": [
    {
     "name": "stdout",
     "output_type": "stream",
     "text": [
      "1\n",
      "(1, 2, 3)\n"
     ]
    }
   ],
   "source": [
    "def function (a, *args):\n",
    "    print (a)\n",
    "    print (args)\n",
    "\n",
    "\n",
    "function(1, 1, 2, 3) # will print 1, [1,2,3]"
   ]
  },
  {
   "cell_type": "markdown",
   "metadata": {},
   "source": [
    "### OOP In python"
   ]
  },
  {
   "cell_type": "code",
   "execution_count": 31,
   "metadata": {},
   "outputs": [
    {
     "ename": "NameError",
     "evalue": "name 'DerivedClass1' is not defined",
     "output_type": "error",
     "traceback": [
      "\u001b[0;31m---------------------------------------------------------------------------\u001b[0m",
      "\u001b[0;31mNameError\u001b[0m                                 Traceback (most recent call last)",
      "\u001b[0;32m<ipython-input-31-e65e4cb7e708>\u001b[0m in \u001b[0;36m<module>\u001b[0;34m\u001b[0m\n\u001b[0;32m----> 1\u001b[0;31m \u001b[0;32mclass\u001b[0m \u001b[0mTestClass\u001b[0m\u001b[0;34m(\u001b[0m\u001b[0mDerivedClass1\u001b[0m\u001b[0;34m,\u001b[0m \u001b[0mDerivedClass2\u001b[0m\u001b[0;34m,\u001b[0m \u001b[0;34m...\u001b[0m\u001b[0;34m)\u001b[0m\u001b[0;34m:\u001b[0m\u001b[0;34m\u001b[0m\u001b[0;34m\u001b[0m\u001b[0m\n\u001b[0m\u001b[1;32m      2\u001b[0m     \u001b[0;31m# constructor\u001b[0m\u001b[0;34m\u001b[0m\u001b[0;34m\u001b[0m\u001b[0;34m\u001b[0m\u001b[0m\n\u001b[1;32m      3\u001b[0m     \u001b[0;32mdef\u001b[0m \u001b[0m__init__\u001b[0m\u001b[0;34m(\u001b[0m\u001b[0mself\u001b[0m\u001b[0;34m)\u001b[0m\u001b[0;34m:\u001b[0m\u001b[0;34m\u001b[0m\u001b[0;34m\u001b[0m\u001b[0m\n\u001b[1;32m      4\u001b[0m         \u001b[0;32mpass\u001b[0m\u001b[0;34m\u001b[0m\u001b[0;34m\u001b[0m\u001b[0m\n\u001b[1;32m      5\u001b[0m \u001b[0;34m\u001b[0m\u001b[0m\n",
      "\u001b[0;31mNameError\u001b[0m: name 'DerivedClass1' is not defined"
     ]
    }
   ],
   "source": [
    "class TestClass(DerivedClass1, DerivedClass2, ...):\n",
    "    # constructor\n",
    "    def __init__(self):\n",
    "        pass\n",
    "\n",
    "    # deconstructor\n",
    "    def __del__(self):\n",
    "        pass\n",
    "\n",
    "\n",
    "class SchoolMember:\n",
    "    '''Represents any school member.'''\n",
    "    def __init__(self, name, age):\n",
    "        self.name = name\n",
    "        self.age = age\n",
    "        print ('(Initialized SchoolMember: %s)' % self.name)\n",
    "\n",
    "    def tell(self):\n",
    "        '''Tell my details.'''\n",
    "        print ('Name:\"%s\" Age:\"%s\"' % (self.name, self.age),)\n",
    "\n",
    "# Teacher and student both inherit from SchoolMember\n",
    "class Teacher(SchoolMember):\n",
    "    '''Represents a teacher.'''\n",
    "    def __init__(self, name, age, salary):\n",
    "        SchoolMember.__init__(self, name, age)\n",
    "        self.salary = salary\n",
    "        print ('(Initialized Teacher: %s)' % self.name)\n",
    "\n",
    "    def tell(self):\n",
    "        SchoolMember.tell(self) # We pass self here\n",
    "        print ('Salary: \"%d\"' % self.salary)\n",
    "\n",
    "class Student(SchoolMember):\n",
    "    '''Represents a student.'''\n",
    "    def __init__(self, name, age, marks):\n",
    "        SchoolMember.__init__(self, name, age)\n",
    "        self.marks = marks\n",
    "        print ('(Initialized Student: %s)' % self.name)\n",
    "\n",
    "    def tell(self):\n",
    "        SchoolMember.tell(self)\n",
    "        print ('Marks: \"%d\"' % self.marks)"
   ]
  }
 ],
 "metadata": {
  "kernelspec": {
   "display_name": "Python 3",
   "language": "python",
   "name": "python3"
  },
  "language_info": {
   "codemirror_mode": {
    "name": "ipython",
    "version": 3
   },
   "file_extension": ".py",
   "mimetype": "text/x-python",
   "name": "python",
   "nbconvert_exporter": "python",
   "pygments_lexer": "ipython3",
   "version": "3.7.2"
  }
 },
 "nbformat": 4,
 "nbformat_minor": 2
}
