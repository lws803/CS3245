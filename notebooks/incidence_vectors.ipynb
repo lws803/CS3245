{
 "cells": [
  {
   "cell_type": "markdown",
   "metadata": {},
   "source": [
    "# Incidence vectors\n",
    "\n",
    "Store a boolean table. Set 1 if the word exists in the document and 0 if it doesnt.\n",
    "\n",
    "```\n",
    "---------------------------------\n",
    "        Anthony  Cleopatra\n",
    "---------------------------------\n",
    "Antony     1         0\n",
    "Brutus     1         0\n",
    "Caesar     0         1\n",
    "```\n",
    "\n",
    "Rows are the words, columns are the documents.\n",
    "\n",
    "\n",
    "## Retrieval\n",
    "\n",
    "To find all documents containing `Anthony AND Brutus AND NOT Caesar` , just take the bits of `Anthony` bitwise AND `Brutus` bitwise AND `~Caesar`\n",
    "\n",
    "## Shortcomings\n",
    "1. Number of documents must be fixed\n",
    "2. Matrix can be huge with alot of documents and words\n",
    "3. Matrix can be sparse, since it contains more 0's than 1's."
   ]
  }
 ],
 "metadata": {
  "kernelspec": {
   "display_name": "Python 3",
   "language": "python",
   "name": "python3"
  },
  "language_info": {
   "codemirror_mode": {
    "name": "ipython",
    "version": 3
   },
   "file_extension": ".py",
   "mimetype": "text/x-python",
   "name": "python",
   "nbconvert_exporter": "python",
   "pygments_lexer": "ipython3",
   "version": "3.7.2"
  }
 },
 "nbformat": 4,
 "nbformat_minor": 2
}
