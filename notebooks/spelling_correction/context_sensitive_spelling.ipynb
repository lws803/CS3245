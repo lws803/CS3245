{
 "cells": [
  {
   "cell_type": "markdown",
   "metadata": {},
   "source": [
    "# Context sensitive spelling correction\n",
    "\n",
    "eg. flew from heathrow vs flew form heathrow.\n",
    "\n",
    "## Approaches to tackle this\n",
    "\n",
    "1. Hit based spelling correction - suggest the alternative that has lots of hits\n",
    "\n",
    "\n",
    "## General issues\n",
    "\n",
    "1. We need to decide which correction to present to the user as we can have multiple.\n",
    "2. Use heuristics\n",
    "3. Spelling correction is computationally expensive.\n",
    "  \n",
    "Avoid running routinely on every doc and run only on queries that matched few docs."
   ]
  }
 ],
 "metadata": {
  "kernelspec": {
   "display_name": "Python 3",
   "language": "python",
   "name": "python3"
  },
  "language_info": {
   "codemirror_mode": {
    "name": "ipython",
    "version": 3
   },
   "file_extension": ".py",
   "mimetype": "text/x-python",
   "name": "python",
   "nbconvert_exporter": "python",
   "pygments_lexer": "ipython3",
   "version": "3.7.2"
  }
 },
 "nbformat": 4,
 "nbformat_minor": 2
}
