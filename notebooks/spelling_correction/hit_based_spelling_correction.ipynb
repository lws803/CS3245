{
 "cells": [
  {
   "cell_type": "markdown",
   "metadata": {},
   "source": [
    "# Hit-based spelling correction\n",
    "\n",
    "\n",
    "The usual way: Rank them based on the query hits (documents retrieved)\n",
    "\n",
    "To make it more accurate/ less accurate using only query logs, we can do the following:\n",
    "1. Find edit distance between user query and all queries\n",
    "2. Filter edit distance according to `e`\n",
    "3. Calculate ratio between the ranks vs the smallest rank eg. `k1 = 10M/1000`\n",
    "4. Set threshold and rank the different results based on their ratio.\n",
    "\n"
   ]
  },
  {
   "cell_type": "code",
   "execution_count": 1,
   "metadata": {},
   "outputs": [
    {
     "name": "stdout",
     "output_type": "stream",
     "text": [
      "[(1000000, 'hello world'), (5, 'hell wordl'), (1000, 'hll world')]\n",
      "[(200000.0, 'hello world'), (200.0, 'hll world'), (1.0, 'hell wordl')]\n"
     ]
    }
   ],
   "source": [
    "import nltk\n",
    "E_THRESHOLD = 5\n",
    "\n",
    "\n",
    "query_logs = {\"hello world\": 1000000, \"hell wordl\": 5, \"hll world\": 1000, \"what are you?\": 1000000}\n",
    "\n",
    "\n",
    "my_query = \"hello wod\"\n",
    "filtered_queries = []\n",
    "\n",
    "smallest = 10000000000\n",
    "\n",
    "for key in query_logs:\n",
    "    if nltk.edit_distance(my_query, key) < E_THRESHOLD:\n",
    "        # Only allow terms that pass the threshold to be considered\n",
    "        filtered_queries.append((query_logs[key], key))\n",
    "        if (query_logs[key] < smallest):\n",
    "            smallest = query_logs[key] # Find the smallest hits\n",
    "\n",
    "print (filtered_queries) # Unsorted\n",
    "\n",
    "\n",
    "ranked_queries = []\n",
    "for item in filtered_queries:\n",
    "    ranked_queries.append((float(item[0])/smallest, item[1]))\n",
    "\n",
    "ranked_queries.sort(reverse=True)\n",
    "print(ranked_queries)"
   ]
  },
  {
   "cell_type": "markdown",
   "metadata": {},
   "source": [
    "\"hello world\" turns out to be the best result due to number of hits."
   ]
  }
 ],
 "metadata": {
  "kernelspec": {
   "display_name": "Python 3",
   "language": "python",
   "name": "python3"
  },
  "language_info": {
   "codemirror_mode": {
    "name": "ipython",
    "version": 3
   },
   "file_extension": ".py",
   "mimetype": "text/x-python",
   "name": "python",
   "nbconvert_exporter": "python",
   "pygments_lexer": "ipython3",
   "version": "3.7.3"
  }
 },
 "nbformat": 4,
 "nbformat_minor": 2
}
