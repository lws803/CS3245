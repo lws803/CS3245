{
 "cells": [
  {
   "cell_type": "markdown",
   "metadata": {},
   "source": [
    "# Hit-based spelling correction\n",
    "\n",
    "\n",
    "The usual way: Rank them based on the query hits (documents retrieved)\n",
    "\n",
    "To make it more accurate/ less accurate using only query logs, we can do the following:\n",
    "1. Find edit distance between user query and top query\n",
    "2. Filter edit distance according to `e`\n",
    "3. Calculate ratio between the ranks vs the smallest rank eg. `k1 = 10M/1000`\n",
    "4. Set threshold and rank the different results based on their ratio.\n",
    "\n"
   ]
  }
 ],
 "metadata": {
  "kernelspec": {
   "display_name": "Python 3",
   "language": "python",
   "name": "python3"
  },
  "language_info": {
   "codemirror_mode": {
    "name": "ipython",
    "version": 3
   },
   "file_extension": ".py",
   "mimetype": "text/x-python",
   "name": "python",
   "nbconvert_exporter": "python",
   "pygments_lexer": "ipython3",
   "version": "3.7.2"
  }
 },
 "nbformat": 4,
 "nbformat_minor": 2
}
