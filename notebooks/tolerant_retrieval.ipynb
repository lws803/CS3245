{
 "cells": [
  {
   "cell_type": "markdown",
   "metadata": {},
   "source": [
    "# Tolerant retrieval techniques\n",
    "1. Wildcard queries\n",
    "2. Spelling correction\n",
    "3. Soundex\n",
    "\n",
    "Their respective implementations are in their respective folders.\n",
    "\n",
    "## Wildcard queries\n",
    "\n",
    "Normally used when we wish to find possible words given some *root*. eg. `k_t_b` where the blanks can be anything.\n",
    "\n",
    "## Spelling correction\n",
    "Normally used when we wish to perform OCR or correction for words so that it exists in the dictionary.\n",
    "- Not to be confused with wildcard as we are not **deliberately** querying for multiple words but rather closest word match to correct our spelling.\n",
    "\n",
    "- Not to be confused with normalisation as we are not converting the spelling to normalised form.\n",
    "\n",
    "## Soundex\n",
    "\n",
    "Normally used to find phonetics equivalents so that they can be normalised to store in the dictionary."
   ]
  }
 ],
 "metadata": {
  "kernelspec": {
   "display_name": "Python 3",
   "language": "python",
   "name": "python3"
  },
  "language_info": {
   "codemirror_mode": {
    "name": "ipython",
    "version": 3
   },
   "file_extension": ".py",
   "mimetype": "text/x-python",
   "name": "python",
   "nbconvert_exporter": "python",
   "pygments_lexer": "ipython3",
   "version": "3.7.2"
  }
 },
 "nbformat": 4,
 "nbformat_minor": 2
}
