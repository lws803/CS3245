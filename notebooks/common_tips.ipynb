{
 "cells": [
  {
   "cell_type": "markdown",
   "metadata": {},
   "source": [
    "# Common Tips\n",
    "\n",
    "\n",
    "### Application of algorithms and techniques\n",
    "\n",
    "#### When asked to do word completion\n",
    "1. Ngram overlap to suggest possible words (jaccard coefficient)\n",
    "2. B-tree for wildcard queries as words could be like `hell*worl*`\n",
    "3. Ngram language model\n",
    "\n",
    "#### When asked to do next word prediction\n",
    "1. Ngram language model - then find the probability of highest possible words based on the current words.  \n",
    "`P(\"hello world how are you\") = P(\"hello\")P(\"world\"|\"hello\")P(\"how\"|\"hello world\")...`\n",
    "\n",
    "#### When asked to do spelling correction\n",
    "1. Ngram overlap\n",
    "2. Edit distance\n",
    "3. Ngram language model\n",
    "\n",
    "#### When asked to list down possible webpages in the web browser\n",
    "1. Character ngram\n",
    "\n",
    "\n",
    "#### When asked to find documents with word matches\n",
    "1. Inverted indexing + boolean operation search/ merge\n",
    "2. Skip lists to speed up\n",
    "3. Unigram language model - bag of words model\n",
    "\n",
    "\n",
    "#### When asked to do phrase queries\n",
    "1. Use positional indexing\n",
    "2. Biword indexes\n",
    "3. Parts of speech tagging\n",
    "\n",
    "#### When asked to do tolerant retrieval\n",
    "See what the question wants to tolerate\n",
    "\n",
    "#### When asked to preprocess terms and reduce vocab space\n",
    "1. Use tokenisation\n",
    "2. Use stop word removal\n",
    "3. Normalisation (e.g. token normalisation; canonicalizing tokens so that matches occur despite superficial differences in the character sequences)\n",
    "4. Stemming (crude heuristic process that chops off the ends of words)\n",
    "5. Lematisation (done properly with the use of a dictionary and morphological analysis of words)\n",
    "6. Case folding \n",
    "\n",
    "#### When asked to modify or extend edit distance\n",
    "Depends on the requirement of the question, edit the min portion and add additional comparisons  \n",
    "eg.  \n",
    "```\n",
    "min(\n",
    "    ...,\n",
    "    arr[j-2][i-1] = if (condition) then 1 else 0,\n",
    "    arr[j-1][i-2] = if (condition) then 1 else 0,\n",
    "    ...\n",
    ")\n",
    "```"
   ]
  }
 ],
 "metadata": {
  "kernelspec": {
   "display_name": "Python 3",
   "language": "python",
   "name": "python3"
  },
  "language_info": {
   "codemirror_mode": {
    "name": "ipython",
    "version": 3
   },
   "file_extension": ".py",
   "mimetype": "text/x-python",
   "name": "python",
   "nbconvert_exporter": "python",
   "pygments_lexer": "ipython3",
   "version": "3.6.5"
  }
 },
 "nbformat": 4,
 "nbformat_minor": 2
}
