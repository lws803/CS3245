{
 "cells": [
  {
   "cell_type": "markdown",
   "metadata": {},
   "source": [
    "## Index Compression\n",
    "- Less disk space, usually can cut cost of storing the index by 75%\n",
    "- Increased use of caching to avoid having to use disk seeks\n",
    "- Compression techniques discussed are `lossless`, i.e. all information is preserved\n",
    "- `Lossy compression`: some information is lost (e.g. through case folding, stemming, or stop word elimination)\n",
    "\n",
    "\n",
    "#### Heap's Law\n",
    "- Estimates vocabulary size as a function of collection size\n",
    "- `M = kT^b`, *T* is the number of tokens in the collection and *k* and *b* are constants\n",
    "\n",
    "#### Zipf's law\n",
    "- The ith most frequent term has frequency proportional to 1/i\n",
    "- collection frequency proportional to 1/i\n",
    "- Using this helps us find the rank, **not number of words**, to do that we have to take `rank_(i) - rank_(i+1)`\n",
    "\n",
    "### Dictionary Compression\n",
    "- Motivation: compressing the dictionary so it can fit in main memory, or at least a large portion in order to support high query throughput. \n",
    "- Also can lead to fast startup times in limited hardware systems\n",
    "\n",
    "\n",
    "1) *Dictionary-as-a-string*\n",
    "- Store the lexicographically ordered list of all terms in an array of fixed-width entries.\n",
    "- Need to store term pointers to demarcate the end of one term and the beginning of another term\n",
    "- Saves around ~40-50% in dictionary size\n",
    "\n",
    "2) *Blocked storage*\n",
    "- Grouping terms in the stirng into blocks of size `k`, keep a term pointer only for the first term of each block\n",
    "- Need to store the length of the term as an additional byte\n",
    "- Thus eliminate `k-1` term pointers but need an additional `k` bytes for storing the length of each term.\n",
    "- The larger the k value, the more we can save on space.\n",
    "    - Tradeoff: Will impact querying speed, as we need to linearly search within each block\n",
    "    \n",
    "\n",
    "3) *Front coding*\n",
    "- Consecutive entries in an alphabetically sorted list share common prefixes. \n",
    "- Common prefix is identified for a subsequence of the term list and then referred to with a special character\n",
    "\n",
    "| Technique                                           | Size in MB |\n",
    "|-----------------------------------------------------|------------|\n",
    "| Fixed width                                         | 11.2       |\n",
    "| Dictionary as string with pointers to every term    | 7.6        |\n",
    "| Dictionary as string with blocking k = 4            | 7.1        |\n",
    "| Dictionary as string with blocking and front coding | 5.9        |\n",
    "\n",
    "### Postings Compression\n",
    "- Premise of `gap encoding`: gaps between postings are short, requiring a lot less space than 20 bits to store, in fact gaps for the most frequent terms such as `the` and `for` are mostly equal to 1.\n",
    "- We store the **difference** compared to the previous one. eg. 33, 47, 154 translates to 33, 14, 107\n",
    "\n",
    "1) *Variable byte codes*\n",
    "- Uses an integral number of bytes to encode a gap. \n",
    "- Last 7 bits of a byte are the *payload* and encode part of the gap. The first **bit** is a *continuation bit*. It is set to 1 for the last **bit** of the encoded gap and to 0 otherwise. \n",
    "- Continuation bit is to let us know whether it is a larger number and if we should use a larger byte integer.\n"
   ]
  }
 ],
 "metadata": {
  "kernelspec": {
   "display_name": "Python 3",
   "language": "python",
   "name": "python3"
  },
  "language_info": {
   "codemirror_mode": {
    "name": "ipython",
    "version": 3
   },
   "file_extension": ".py",
   "mimetype": "text/x-python",
   "name": "python",
   "nbconvert_exporter": "python",
   "pygments_lexer": "ipython3",
   "version": "3.7.3"
  }
 },
 "nbformat": 4,
 "nbformat_minor": 2
}
