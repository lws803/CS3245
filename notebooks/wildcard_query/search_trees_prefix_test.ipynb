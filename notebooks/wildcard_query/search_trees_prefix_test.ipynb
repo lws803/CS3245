{
 "cells": [
  {
   "cell_type": "markdown",
   "metadata": {},
   "source": [
    "# Binary search tree for prefix - posting list\n",
    "B-trees have similar algorithms just that they can contain more than 2 children  \n",
    "\n",
    "Comparisons are made **lexicographically**\n",
    "\n",
    "### Advantages\n",
    "1. Can search posting list based on prefixes (incomplete words)\n",
    "\n",
    "\n",
    "### Disadvantages\n",
    "1. Will blow up to quite huge"
   ]
  },
  {
   "cell_type": "code",
   "execution_count": 1,
   "metadata": {},
   "outputs": [],
   "source": [
    "class Node:\n",
    "\n",
    "    def __init__(self, data):\n",
    "\n",
    "        self.left = None\n",
    "        self.right = None\n",
    "        self.data = data\n",
    "\n",
    "    def insert(self, data):\n",
    "# Compare the new value with the parent node\n",
    "        if self.data:\n",
    "            if data < self.data:\n",
    "                if self.left is None:\n",
    "                    self.left = Node(data)\n",
    "                else:\n",
    "                    self.left.insert(data)\n",
    "            elif data > self.data:\n",
    "                if self.right is None:\n",
    "                    self.right = Node(data)\n",
    "                else:\n",
    "                    self.right.insert(data)\n",
    "        else:\n",
    "            self.data = data\n",
    "\n",
    "# Print the tree\n",
    "    def PrintTree(self):\n",
    "        if self.left:\n",
    "            self.left.PrintTree()\n",
    "        print( self.data),\n",
    "        if self.right:\n",
    "            self.right.PrintTree()\n"
   ]
  },
  {
   "cell_type": "markdown",
   "metadata": {},
   "source": [
    "### Insertion of data\n",
    "\n",
    "Declare the root as an empty string.\n",
    "- Full words will be located at the leaves of the tree"
   ]
  },
  {
   "cell_type": "code",
   "execution_count": 2,
   "metadata": {
    "scrolled": false
   },
   "outputs": [
    {
     "name": "stdout",
     "output_type": "stream",
     "text": [
      "h\n",
      "hu\n",
      "hum\n",
      "huma\n",
      "human\n",
      "humm\n",
      "hummm\n",
      "hummmu\n",
      "hummmus\n"
     ]
    }
   ],
   "source": [
    "root = Node(\"\")\n",
    "\n",
    "combined_string = \"\"\n",
    "for c in \"human\":\n",
    "    combined_string += c\n",
    "    root.insert(combined_string)\n",
    "\n",
    "combined_string = \"\"\n",
    "for c in \"hummmus\":\n",
    "    combined_string += c\n",
    "    root.insert(combined_string)\n",
    "\n",
    "\n",
    "root.PrintTree()\n",
    "\n",
    "# We can also traverse the tree to find out our posting lists for the prefix we entered"
   ]
  },
  {
   "cell_type": "markdown",
   "metadata": {},
   "source": [
    "We can further modify this BST to store the payload (posting list) as well"
   ]
  },
  {
   "cell_type": "markdown",
   "metadata": {},
   "source": [
    "# Wildcard queries on trees\n",
    "\n",
    "eg.\n",
    "```\n",
    "mon* - find all docs with word beginning with 'mon'\n",
    "*mon - find all docs with word ending with 'mon'\n",
    "```\n",
    "\n",
    "To find words like `pro*cent`, we find `pro*` and `*cent` then intersect the two results"
   ]
  },
  {
   "cell_type": "markdown",
   "metadata": {},
   "source": [
    "# Permuterm indexing\n",
    "\n",
    "Create permutations for word (all possible rotations) and store them in the tree"
   ]
  },
  {
   "cell_type": "code",
   "execution_count": 3,
   "metadata": {},
   "outputs": [
    {
     "name": "stdout",
     "output_type": "stream",
     "text": [
      "$hello\n",
      "o$hell\n",
      "lo$hel\n",
      "llo$he\n",
      "ello$h\n",
      "hello$\n"
     ]
    }
   ],
   "source": [
    "def rotate(input,d): \n",
    "  \n",
    "    # slice string in two parts for left and right \n",
    "    Rfirst = input[0 : len(input)-d] \n",
    "    Rsecond = input[len(input)-d : ] \n",
    "  \n",
    "    # now concatenate two parts together \n",
    "    return (Rsecond + Rfirst)\n",
    "\n",
    "word = \"hello\"\n",
    "word = \"$\" + word # '$' is a special symbol\n",
    "for x in range(0, len(word)):\n",
    "    print (rotate(\"$hello\", x))"
   ]
  },
  {
   "cell_type": "markdown",
   "metadata": {},
   "source": [
    "When we query for `hel*o` we can simply rotate such that we query for o$hel* which is easy to find from B-tree or BSTs."
   ]
  }
 ],
 "metadata": {
  "kernelspec": {
   "display_name": "Python 3",
   "language": "python",
   "name": "python3"
  },
  "language_info": {
   "codemirror_mode": {
    "name": "ipython",
    "version": 3
   },
   "file_extension": ".py",
   "mimetype": "text/x-python",
   "name": "python",
   "nbconvert_exporter": "python",
   "pygments_lexer": "ipython3",
   "version": "3.7.2"
  }
 },
 "nbformat": 4,
 "nbformat_minor": 2
}
