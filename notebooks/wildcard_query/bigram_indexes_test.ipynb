{
 "cells": [
  {
   "cell_type": "markdown",
   "metadata": {},
   "source": [
    "# Bigram (k-gram) indexes\n",
    "\n",
    "Maintain a second inverted index with mapping from bigram to dictionary terms that match each bigram\n",
    "\n",
    "eg.\n",
    "\n",
    "```\n",
    "$m -> mace, madden, monday, ...\n",
    "mo -> monday, among, amortize, ...\n",
    "on -> among, axon, ...\n",
    "```\n",
    "\n",
    "### Advantages\n",
    "\n",
    "1. Fast\n",
    "2. Space efficient - compared to permuterm"
   ]
  },
  {
   "cell_type": "code",
   "execution_count": 7,
   "metadata": {},
   "outputs": [
    {
     "name": "stdout",
     "output_type": "stream",
     "text": [
      "$a\n",
      "ap\n",
      "pr\n",
      "ri\n",
      "il\n",
      "l$\n",
      "$i\n",
      "is\n",
      "s$\n",
      "$t\n",
      "th\n",
      "he\n",
      "e$\n",
      "$c\n",
      "cr\n",
      "ru\n",
      "ue\n",
      "el\n",
      "le\n",
      "es\n",
      "st\n",
      "t$\n",
      "$m\n",
      "mo\n",
      "on\n",
      "nt\n",
      "th\n",
      "h$\n"
     ]
    }
   ],
   "source": [
    "import nltk\n",
    "\n",
    "sentence = \"April is the cruelest month\"\n",
    "dictionary = {\"\":[]}\n",
    "\n",
    "for word in nltk.word_tokenize(sentence):\n",
    "    processed_word = \"$\" + word.lower() + \"$\"\n",
    "    for gram in nltk.ngrams(processed_word, 2):\n",
    "        print (\"\".join(gram))\n",
    "        kgram = \"\".join(gram)\n",
    "        if (kgram in dictionary):\n",
    "            dictionary[kgram].append(word.lower())\n",
    "        else:\n",
    "            dictionary[kgram] = [word.lower()]"
   ]
  },
  {
   "cell_type": "markdown",
   "metadata": {},
   "source": [
    "### Moving forward\n",
    "Store the ngrams was keys mapping it to a list of words containing that ngram. Then we can perform queries just like inverted indexing\n",
    "\n",
    "\n",
    "#### Wildcard queries\n",
    "\n",
    "- `mon*` can now be interpreted as `$m` AND `mo` AND `on`\n",
    "- `hel*o` can not be interpreted as `$h` AND `he` AND `el` AND `o$`\n",
    "\n",
    "#### False positives\n",
    "\n",
    "Sometimes we can also encounter false positives like `moon`. Then we just have to do some post filtering.\n",
    "\n",
    "#### Short comings\n",
    "1. Can still be very expensive esp if we query for something like `pyth*` AND `prog*` multiple wildcard query."
   ]
  },
  {
   "cell_type": "code",
   "execution_count": 6,
   "metadata": {},
   "outputs": [
    {
     "name": "stdout",
     "output_type": "stream",
     "text": [
      "['april']\n",
      "['the', 'month']\n"
     ]
    }
   ],
   "source": [
    "print (dictionary[\"ap\"])\n",
    "print (dictionary[\"th\"])"
   ]
  }
 ],
 "metadata": {
  "kernelspec": {
   "display_name": "Python 3",
   "language": "python",
   "name": "python3"
  },
  "language_info": {
   "codemirror_mode": {
    "name": "ipython",
    "version": 3
   },
   "file_extension": ".py",
   "mimetype": "text/x-python",
   "name": "python",
   "nbconvert_exporter": "python",
   "pygments_lexer": "ipython3",
   "version": "3.7.2"
  }
 },
 "nbformat": 4,
 "nbformat_minor": 2
}
