{
 "cells": [
  {
   "cell_type": "markdown",
   "metadata": {},
   "source": [
    "# Skip Lists\n",
    "\n",
    "Skip lists are done at indexing time and skips are placed at every `sqrt(Length)`\n",
    "\n",
    "### Tradeoffs\n",
    "1. Depending on the distribution of inputs (eg. more inputs within 2 skip indexes) then there won't be much skipping\n",
    "2. If we increase the number of skip indexes, then there would be many comparisons to be made on each skip index (2x more comparisons)\n",
    "3. If we reduce the number of skip indexes (larger skip span) then there would be fewer successful skips\n",
    "4. Skip lists will suffer if `L` keeps changing because of updates (dynamically changing list)\n",
    "\n",
    "\n",
    "### Important notes\n",
    "Queries done on a skip list will always have upper bound of the posting size eg.  \n",
    "word1.length = N ------> Then it will have an upperbound of **O(N)** assuming it doesnt skip anything."
   ]
  },
  {
   "cell_type": "markdown",
   "metadata": {},
   "source": [
    "## The Node\n",
    "\n",
    "This node contains the current value and also the index to skip next"
   ]
  },
  {
   "cell_type": "code",
   "execution_count": 16,
   "metadata": {},
   "outputs": [],
   "source": [
    "import math\n",
    "\n",
    "class Node:\n",
    "    def __init__ (self, value, skip_index=None):\n",
    "        self.value = value\n",
    "        self.skip_index = skip_index\n",
    "\n",
    "    def getValue (self):\n",
    "        return self.value\n",
    "\n",
    "    def skip(self):\n",
    "        return self.skip_index"
   ]
  },
  {
   "cell_type": "markdown",
   "metadata": {},
   "source": [
    "## The List\n",
    "\n",
    "This imlpements python lists and stores a list of `Node` type"
   ]
  },
  {
   "cell_type": "code",
   "execution_count": 17,
   "metadata": {},
   "outputs": [],
   "source": [
    "# Condition: Data input must be sorted\n",
    "class SkipList:\n",
    "    def __init__ (self, data = []):\n",
    "        self.skip_list = []\n",
    "\n",
    "        length = len(data)\n",
    "        skip_length = math.pow(length, 0.5)\n",
    "        skip_length = int(skip_length)\n",
    "\n",
    "        curr_skip = 0\n",
    "        for i in range(0, length):\n",
    "            if (i == curr_skip):\n",
    "                self.skip_list.append(Node(data[i], i+skip_length))\n",
    "                curr_skip = i + skip_length\n",
    "            else:\n",
    "                self.skip_list.append(Node(data[i]))\n",
    "        \n",
    "    def get(self, index):\n",
    "        if (index >= len(self.skip_list)):\n",
    "            return -1 # Returns -1 to show out of bounds\n",
    "        return self.skip_list[index].getValue()\n",
    "\n",
    "    def getSkipIndex(self, index):\n",
    "        if (index >= len(self.skip_list)):\n",
    "            return -1 # Returns -1 to show out of bounds\n",
    "\n",
    "        return self.skip_list[index].skip()\n",
    "\n",
    "    def getLength (self):\n",
    "        return len(self.skip_list)\n",
    "\n",
    "\n",
    "    def find(self, value, start_index=0):\n",
    "        if (start_index >= len(self.skip_list)):\n",
    "            return -1\n",
    "         \n",
    "        for i in range(start_index, len(self.skip_list)):\n",
    "            if (self.skip_list[i].getValue() == value):\n",
    "                return i\n",
    "\n",
    "            elif (self.skip_list[i].skip() != None and self.skip_list[i].skip() < len(self.skip_list)):\n",
    "                skip_index = self.skip_list[i].skip()\n",
    "\n",
    "                # IF skip value is less than the one we want then move iterator to this skip index\n",
    "                if (self.skip_list[skip_index].getValue() < value):\n",
    "                    print (\"skipped\", i)\n",
    "                    i = skip_index\n",
    "\n",
    "                # IF the skip value is the one we want then just return that\n",
    "                elif (self.skip_list[skip_index].getValue() == value):\n",
    "                    print (\"skipped\", i)\n",
    "                    return skip_index"
   ]
  },
  {
   "cell_type": "code",
   "execution_count": 18,
   "metadata": {},
   "outputs": [],
   "source": [
    "# Creating a list of 1 to 10\n",
    "\n",
    "myList = SkipList([1,2,3,4,5,6,7,8,9,10])"
   ]
  },
  {
   "cell_type": "markdown",
   "metadata": {},
   "source": [
    "**Observe the skips only happen every 3 blocks.** `sqrt(10) = 3`"
   ]
  },
  {
   "cell_type": "code",
   "execution_count": 19,
   "metadata": {},
   "outputs": [
    {
     "name": "stdout",
     "output_type": "stream",
     "text": [
      "3\n",
      "None\n",
      "None\n",
      "6\n",
      "None\n",
      "None\n",
      "9\n",
      "None\n",
      "None\n",
      "12\n"
     ]
    }
   ],
   "source": [
    "for i in range(0, myList.getLength()):\n",
    "    print (myList.getSkipIndex(i))"
   ]
  },
  {
   "cell_type": "markdown",
   "metadata": {},
   "source": [
    "**Notice how we have skipped iterator at 0, 3 and 6 to eventually get to index 9**"
   ]
  },
  {
   "cell_type": "code",
   "execution_count": 20,
   "metadata": {},
   "outputs": [
    {
     "name": "stdout",
     "output_type": "stream",
     "text": [
      "skipped 0\n",
      "skipped 3\n",
      "skipped 6\n",
      "9\n"
     ]
    }
   ],
   "source": [
    "print (myList.find(10, 0))"
   ]
  },
  {
   "cell_type": "markdown",
   "metadata": {},
   "source": [
    "# Extensions\n",
    "\n",
    "Skip lists can be used for inverted indexing or positional indexing as well.\n",
    "\n",
    "### Positional indexing\n",
    "\n",
    "Yes eg. if we have a phrase \"to be\", and we are looking for the phrase in the **same document**, we can skip pointers for \"be\" once we have located \"to\" in the same document"
   ]
  }
 ],
 "metadata": {
  "kernelspec": {
   "display_name": "Python 3",
   "language": "python",
   "name": "python3"
  },
  "language_info": {
   "codemirror_mode": {
    "name": "ipython",
    "version": 3
   },
   "file_extension": ".py",
   "mimetype": "text/x-python",
   "name": "python",
   "nbconvert_exporter": "python",
   "pygments_lexer": "ipython3",
   "version": "3.7.2"
  }
 },
 "nbformat": 4,
 "nbformat_minor": 2
}
