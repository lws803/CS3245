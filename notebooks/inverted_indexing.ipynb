{
 "cells": [
  {
   "cell_type": "markdown",
   "metadata": {},
   "source": [
    "# Inverted indexing\n",
    "\n",
    "Finding material of unstructured nature (such as finding a book based on a particular text) from within a large collection.\n",
    "\n",
    "### Judging criteria of retrieved docs\n",
    "- Precision: Fraction of retrieved docs that are relevant to user's needs.\n",
    "- Recall: Fraction of relevants docs in collection that are retrieved.\n",
    "\n",
    "\n",
    "### Bounds\n",
    "- The cost is bounded by the min posting list\n",
    "- To reduce the time complexity of iterating thru the posting list, we sort and go thru the merging from the postings list with the **smallest size** first\n",
    "\n",
    "### Precedence of query operators (1 is highest)\n",
    "1. ( brackets )\n",
    "2. AND NOT (maybe)\n",
    "3. NOT\n",
    "4. AND\n",
    "5. XOR\n",
    "6. OR\n",
    "\n",
    "### Advantages and disadvantages of inverted index\n",
    "\n",
    "#### Advantage of Inverted Index are:\n",
    "\n",
    "- Inverted index is to allow fast full text searches, at a cost of increased processing when a document is added to the database.\n",
    "- It is easy to develop.\n",
    "- It is the most popular data structure used in document retrieval systems, used on a large scale for example in search engines.\n",
    "\n",
    "#### Inverted Index also has disadvantage:\n",
    "- Large storage overhead and high maintaenance costs on update, delete and insert.\n",
    "\n"
   ]
  },
  {
   "cell_type": "code",
   "execution_count": 2,
   "metadata": {},
   "outputs": [],
   "source": [
    "from nltk.stem import *\n",
    "from nltk.probability import FreqDist\n",
    "import nltk\n",
    "\n",
    "\n",
    "# Porter stemmer can remove the -ed and -s etc etc\n",
    "stemmer = PorterStemmer()"
   ]
  },
  {
   "cell_type": "markdown",
   "metadata": {},
   "source": [
    "### The Texts"
   ]
  },
  {
   "cell_type": "code",
   "execution_count": 3,
   "metadata": {},
   "outputs": [],
   "source": [
    "text = \"penyetted penyet\"\n",
    "text1 = \"penyet test helloed\"\n",
    "text2 = \"penyetted hello\"\n",
    "\n",
    "texts = [text, text1, text2]"
   ]
  },
  {
   "cell_type": "markdown",
   "metadata": {},
   "source": [
    "### The dictionary"
   ]
  },
  {
   "cell_type": "code",
   "execution_count": 4,
   "metadata": {},
   "outputs": [],
   "source": [
    "dictionary = {}"
   ]
  },
  {
   "cell_type": "markdown",
   "metadata": {},
   "source": [
    "Store the words in dictionary with respect to their titles"
   ]
  },
  {
   "cell_type": "code",
   "execution_count": 5,
   "metadata": {},
   "outputs": [],
   "source": [
    "# By right we're also supposed to store the doc count for each word\n",
    "# {(term, docCount): [docID1,...]}\n",
    "for i in range(0, 3):\n",
    "    for word in nltk.word_tokenize(texts[i]):\n",
    "        word = stemmer.stem(word) # Stem it first\n",
    "        if (word not in dictionary):\n",
    "            dictionary[word] = [i]\n",
    "        else:\n",
    "            if (i not in dictionary[word]):\n",
    "                dictionary[word].append(i)"
   ]
  },
  {
   "cell_type": "code",
   "execution_count": 6,
   "metadata": {},
   "outputs": [
    {
     "name": "stdout",
     "output_type": "stream",
     "text": [
      "penyet [0, 1, 2]\n",
      "test [1]\n",
      "hello [1, 2]\n"
     ]
    }
   ],
   "source": [
    "for items in dictionary:\n",
    "    print (items, dictionary[items])\n",
    "\n",
    "# Texts are ordered by their index in increasing order"
   ]
  },
  {
   "cell_type": "markdown",
   "metadata": {},
   "source": [
    "### The queries"
   ]
  },
  {
   "cell_type": "code",
   "execution_count": 7,
   "metadata": {},
   "outputs": [],
   "source": [
    "query1 = \"penyet\"\n",
    "query2 = \"hello\"\n",
    "\n",
    "query1 = stemmer.stem(query1)\n",
    "query2 = stemmer.stem(query2)\n",
    "\n",
    "queries = [[len(dictionary[query1]), query1], [len(dictionary[query2]), query2]]\n",
    "queries.sort() # Sort the queries so we tackle the smallest one first"
   ]
  },
  {
   "cell_type": "markdown",
   "metadata": {},
   "source": [
    "### Querying AND operation\n",
    "Time complexity: O(x + y)\n",
    "```\n",
    "==== Worst case ====\n",
    "'a' -> 1,2,3,4,10\n",
    "'b' -> 5,6,7,8,9,10\n",
    "```\n",
    "Will have to iterate from 1 -> 4 first in `a` then 5 -> 9 in `b` also"
   ]
  },
  {
   "cell_type": "code",
   "execution_count": 8,
   "metadata": {},
   "outputs": [
    {
     "name": "stdout",
     "output_type": "stream",
     "text": [
      "dict_keys([1, 2])\n"
     ]
    }
   ],
   "source": [
    "# We want to find a text which contains both penyet and hello\n",
    "p1 = 0\n",
    "p2 = 0\n",
    "foundTexts = {}\n",
    "# We can check both of them at the same time as their arrays are sorted\n",
    "while (p1 < len(dictionary[queries[0][1]]) and p2 < len(dictionary[queries[1][1]])):\n",
    "    index1 = dictionary[queries[0][1]][p1]\n",
    "    index2 = dictionary[queries[1][1]][p2]\n",
    "    \n",
    "    if (index1 < index2):\n",
    "        p1 += 1 # If index1 < index2 then we move p1 up\n",
    "    elif (index1 > index2):\n",
    "        p2 += 1 # if index2 < index1 then we move p2 up\n",
    "    elif (index1 == index2): \n",
    "        foundTexts[index1] = True\n",
    "        p1 += 1\n",
    "        p2 += 1\n",
    "\n",
    "print (foundTexts.keys())"
   ]
  },
  {
   "cell_type": "markdown",
   "metadata": {},
   "source": [
    "### Querying with XOR condition"
   ]
  },
  {
   "cell_type": "code",
   "execution_count": 9,
   "metadata": {},
   "outputs": [
    {
     "name": "stdout",
     "output_type": "stream",
     "text": [
      "dict_keys([0])\n"
     ]
    }
   ],
   "source": [
    "# We want to find a text which contains penyet XOR hello - meaning they can only exist in one of them not both\n",
    "foundTexts = {}\n",
    "p1 = 0\n",
    "p2 = 0\n",
    "\n",
    "# We use AND in the while loop because intersection stops when any list reaches the end.\n",
    "while (p1 < len(dictionary[\"penyet\"]) and p2 < len(dictionary[\"hello\"])):\n",
    "    index1 = dictionary[\"penyet\"][p1]\n",
    "    index2 = dictionary[\"hello\"][p2]\n",
    "    if (index1 == index2):\n",
    "        p1 += 1\n",
    "        p2 += 1\n",
    "    elif (index1 < index2):\n",
    "        foundTexts[index1] = True\n",
    "        p1 += 1\n",
    "    else:\n",
    "        foundTexts[index2] = True\n",
    "        p2 += 1\n",
    "\n",
    "        \n",
    "# Remember to add these two for loops! Very important\n",
    "while (p1 < len(dictionary[\"penyet\"])):\n",
    "    index1 = dictionary[\"penyet\"][p1]\n",
    "\n",
    "    foundTexts[index1] = True\n",
    "    p1 += 1\n",
    "    \n",
    "while (p2 < len(dictionary[\"hello\"])):\n",
    "    index2 = dictionary[\"hello\"][p2]\n",
    "    foundTexts[index2] = True\n",
    "    p2 += 1\n",
    "\n",
    "print (foundTexts.keys())"
   ]
  },
  {
   "cell_type": "markdown",
   "metadata": {},
   "source": [
    "### Querying with OR operation\n",
    "Time complexity: O(max(x,y))"
   ]
  },
  {
   "cell_type": "code",
   "execution_count": 10,
   "metadata": {},
   "outputs": [
    {
     "name": "stdout",
     "output_type": "stream",
     "text": [
      "dict_keys([0, 1, 2])\n"
     ]
    }
   ],
   "source": [
    "foundTexts = {}\n",
    "p1 = 0\n",
    "p2 = 0\n",
    "# Take not we use OR in this case as we wanna read thru the whole list\n",
    "while (p1 < len(dictionary[\"penyet\"]) and p2 < len(dictionary[\"hello\"])):\n",
    "    index1 = dictionary[\"penyet\"][p1]\n",
    "    index2 = dictionary[\"hello\"][p2]\n",
    "\n",
    "    foundTexts[index1] = True\n",
    "    p1+=1\n",
    "    foundTexts[index2] = True\n",
    "    p2+=1\n",
    "\n",
    "# Remember to add these two for loops! Very important\n",
    "while (p1 < len(dictionary[\"penyet\"])):\n",
    "    index1 = dictionary[\"penyet\"][p1]\n",
    "\n",
    "    foundTexts[index1] = True\n",
    "    p1 += 1\n",
    "    \n",
    "while (p2 < len(dictionary[\"hello\"])):\n",
    "    index2 = dictionary[\"hello\"][p2]\n",
    "    foundTexts[index2] = True\n",
    "    p2 += 1\n",
    "    \n",
    "    \n",
    "print (foundTexts.keys())"
   ]
  },
  {
   "cell_type": "markdown",
   "metadata": {},
   "source": [
    "### Querying/ processing the NOT operation\n",
    "`NOT B`  \n",
    "For this we have to consider using the universal set (everything) and then add everything that does not exist in `B`"
   ]
  },
  {
   "cell_type": "code",
   "execution_count": 2,
   "metadata": {},
   "outputs": [
    {
     "name": "stdout",
     "output_type": "stream",
     "text": [
      "[54, 101]\n"
     ]
    }
   ],
   "source": [
    "# Terms - posting list\n",
    "Brutus = [1,2,4,11,31,45,173,174]\n",
    "Calpurina = [2,31,54,101]\n",
    "\n",
    "Universal = list(set().union(Brutus, Calpurina))\n",
    "Universal.sort()\n",
    "\n",
    "p1 = 0\n",
    "p2 = 0\n",
    "\n",
    "answer = {}\n",
    "\n",
    "# We want to find NOT BRUTUS\n",
    "while (p1 < len(Universal) and p2 < len(Brutus)):\n",
    "    index1 = Universal[p1]\n",
    "    index2 = Brutus[p2]\n",
    "    \n",
    "    if (index1 == index2):\n",
    "        p1 += 1\n",
    "        p2 += 1\n",
    "        \n",
    "    elif (index1 < index2):\n",
    "        # Skipping cannot be used here as we will miss out on index1 to add to answer\n",
    "        answer[index1] = True\n",
    "        p1 += 1\n",
    "    else:\n",
    "        # Skipping can be used here\n",
    "        p2 += 1\n",
    "        \n",
    "        \n",
    "# Assuming universal set will always be larger than Brutus set\n",
    "# we only have to add on the remaining stuff from Universal\n",
    "while (p1 < len(Universal)):\n",
    "    index1 = Universal[p1]\n",
    "    answer[index1] = True\n",
    "    p1 += 1\n",
    "    \n",
    "print (list(answer))"
   ]
  },
  {
   "cell_type": "markdown",
   "metadata": {},
   "source": [
    "### Querying A AND NOT B"
   ]
  },
  {
   "cell_type": "code",
   "execution_count": 1,
   "metadata": {},
   "outputs": [
    {
     "name": "stdout",
     "output_type": "stream",
     "text": [
      "[54, 101]\n"
     ]
    }
   ],
   "source": [
    "# Terms - posting list\n",
    "Brutus = [1,2,4,11,31,45,173,174]\n",
    "Calpurina = [2,31,54,101]\n",
    "\n",
    "p1 = 0\n",
    "p2 = 0\n",
    "\n",
    "answer = {}\n",
    "\n",
    "# We want to find Calpurina AND NOT BRUTUS\n",
    "while (p1 < len(Calpurina) and p2 < len(Brutus)):\n",
    "    index1 = Calpurina[p1] # Put index1 as the first variable\n",
    "    index2 = Brutus[p2] # index2 as the second variable with NOT operation\n",
    "    \n",
    "    if (index1 == index2):\n",
    "        p1 += 1\n",
    "        p2 += 1\n",
    "    elif (index1 < index2):\n",
    "        # Means it does not contain index1 in Brutus\n",
    "        # Skipping cannot be used here as we have to add every single index1 which is < index2\n",
    "        answer[index1] = True\n",
    "        p1 += 1\n",
    "    else:\n",
    "        # Skip lists could be implemented here to try to match p2 pointer to p1.\n",
    "        p2 += 1\n",
    "\n",
    "        \n",
    "# To deal with the remaining Calpurina\n",
    "while (p2 < len(Calpurina)):\n",
    "    index1 = Calpurina[p2]\n",
    "    answer [index1] = True\n",
    "    p2 += 1\n",
    "\n",
    "    \n",
    "print (list(answer))"
   ]
  },
  {
   "cell_type": "code",
   "execution_count": 1,
   "metadata": {},
   "outputs": [
    {
     "name": "stdout",
     "output_type": "stream",
     "text": [
      "[1, 4, 11, 45, 173, 174]\n"
     ]
    }
   ],
   "source": [
    "# Terms - posting list\n",
    "Brutus = [1,2,4,11,31,45,173,174]\n",
    "Calpurina = [2,31,54,101]\n",
    "\n",
    "p1 = 0\n",
    "p2 = 0\n",
    "\n",
    "answer = {}\n",
    "\n",
    "# We want to find BRUTUS AND NOT CALPURINA\n",
    "while (p1 < len(Brutus) and p2 < len(Calpurina)):\n",
    "    index1 = Brutus[p1]\n",
    "    index2 = Calpurina[p2]\n",
    "    \n",
    "    if (index1 == index2):\n",
    "        p1 += 1\n",
    "        p2 += 1\n",
    "        \n",
    "    elif (index1 < index2):\n",
    "        answer[index1] = True\n",
    "        p1 += 1\n",
    "    else:\n",
    "        p2 += 1\n",
    "\n",
    "# To deal with the remaining Brutus\n",
    "while (p1 < len(Brutus)):\n",
    "    index1 = Brutus[p1]\n",
    "    answer [index1] = True\n",
    "    p1 += 1\n",
    "        \n",
    "        \n",
    "print (list(answer))"
   ]
  }
 ],
 "metadata": {
  "kernelspec": {
   "display_name": "Python 3",
   "language": "python",
   "name": "python3"
  },
  "language_info": {
   "codemirror_mode": {
    "name": "ipython",
    "version": 3
   },
   "file_extension": ".py",
   "mimetype": "text/x-python",
   "name": "python",
   "nbconvert_exporter": "python",
   "pygments_lexer": "ipython3",
   "version": "3.7.2"
  }
 },
 "nbformat": 4,
 "nbformat_minor": 2
}
