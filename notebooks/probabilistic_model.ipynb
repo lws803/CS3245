{
 "cells": [
  {
   "cell_type": "markdown",
   "metadata": {},
   "source": [
    "# Probabilistic model\n",
    "\n",
    "```\n",
    "P(d|q) = P(q|d)p(d)/p(q)\n",
    "```\n",
    "\n",
    "- p(q) is redundant as it is specific to this query only\n",
    "- p(d) can be obtained from page ranking\n",
    "\n"
   ]
  }
 ],
 "metadata": {
  "kernelspec": {
   "display_name": "Python 3",
   "language": "python",
   "name": "python3"
  },
  "language_info": {
   "codemirror_mode": {
    "name": "ipython",
    "version": 2
   },
   "file_extension": ".py",
   "mimetype": "text/x-python",
   "name": "python",
   "nbconvert_exporter": "python",
   "pygments_lexer": "ipython2",
   "version": "2.7.16"
  }
 },
 "nbformat": 4,
 "nbformat_minor": 2
}
